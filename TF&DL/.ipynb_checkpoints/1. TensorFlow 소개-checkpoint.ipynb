{
 "cells": [
  {
   "cell_type": "markdown",
   "metadata": {},
   "source": [
    "# TensorFlow 란?\n",
    "## 개요\n",
    "- Google에서 만든 딥러닝을 쉽게 구동할 수 있게 하는 라이브러리\n",
    "- 기본적으로 C++로 구현 되어 있으며, Python, Java, Go 등 다양한 언어를 지원함\n",
    "- Python을 최우선으로 지원하고 있으며, 대부분의 편의 기능이 Python 라이브러리로 구성되어 있음"
   ]
  },
  {
   "cell_type": "code",
   "execution_count": null,
   "metadata": {},
   "outputs": [],
   "source": []
  }
 ],
 "metadata": {
  "kernelspec": {
   "display_name": "Python 3",
   "language": "python",
   "name": "python3"
  },
  "language_info": {
   "codemirror_mode": {
    "name": "ipython",
    "version": 3
   },
   "file_extension": ".py",
   "mimetype": "text/x-python",
   "name": "python",
   "nbconvert_exporter": "python",
   "pygments_lexer": "ipython3",
   "version": "3.7.4"
  }
 },
 "nbformat": 4,
 "nbformat_minor": 2
}
